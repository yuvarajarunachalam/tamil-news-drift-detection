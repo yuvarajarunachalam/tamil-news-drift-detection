{
 "cells": [
  {
   "cell_type": "code",
   "execution_count": 2,
   "id": "9812f566-e0a9-4112-987e-68e7a55ae658",
   "metadata": {},
   "outputs": [
    {
     "name": "stdout",
     "output_type": "stream",
     "text": [
      "✅ Setup complete!\n"
     ]
    }
   ],
   "source": [
    "# Install required packages\n",
    "# !pip install transformers torch supabase python-dotenv\n",
    "\n",
    "# Import libraries\n",
    "from transformers import AutoTokenizer, AutoModelForSequenceClassification\n",
    "from transformers import pipeline\n",
    "import torch\n",
    "from supabase import create_client, Client\n",
    "import os\n",
    "from dotenv import load_dotenv\n",
    "import pandas as pd\n",
    "\n",
    "# Load environment variables\n",
    "load_dotenv(\"../.env\")\n",
    "\n",
    "# Initialize Supabase client\n",
    "SUPABASE_URL = os.getenv(\"SUPABASE_URL\")\n",
    "SUPABASE_KEY = os.getenv(\"SUPABASE_KEY\")\n",
    "supabase: Client = create_client(SUPABASE_URL, SUPABASE_KEY)\n",
    "\n",
    "print(\"✅ Setup complete!\")"
   ]
  },
  {
   "cell_type": "code",
   "execution_count": 3,
   "id": "af441e04-2778-4ba4-9768-b988a034f0a5",
   "metadata": {},
   "outputs": [
    {
     "name": "stdout",
     "output_type": "stream",
     "text": [
      "Loading model: cardiffnlp/twitter-roberta-base-sentiment-latest...\n"
     ]
    },
    {
     "data": {
      "application/vnd.jupyter.widget-view+json": {
       "model_id": "96fe1969a42a454289957da2d80a4535",
       "version_major": 2,
       "version_minor": 0
      },
      "text/plain": [
       "config.json:   0%|          | 0.00/929 [00:00<?, ?B/s]"
      ]
     },
     "metadata": {},
     "output_type": "display_data"
    },
    {
     "name": "stderr",
     "output_type": "stream",
     "text": [
      "C:\\Users\\Yuvaraj\\AppData\\Local\\Programs\\Python\\Python313\\Lib\\site-packages\\huggingface_hub\\file_download.py:143: UserWarning: `huggingface_hub` cache-system uses symlinks by default to efficiently store duplicated files but your machine does not support them in C:\\Users\\Yuvaraj\\.cache\\huggingface\\hub\\models--cardiffnlp--twitter-roberta-base-sentiment-latest. Caching files will still work but in a degraded version that might require more space on your disk. This warning can be disabled by setting the `HF_HUB_DISABLE_SYMLINKS_WARNING` environment variable. For more details, see https://huggingface.co/docs/huggingface_hub/how-to-cache#limitations.\n",
      "To support symlinks on Windows, you either need to activate Developer Mode or to run Python as an administrator. In order to activate developer mode, see this article: https://docs.microsoft.com/en-us/windows/apps/get-started/enable-your-device-for-development\n",
      "  warnings.warn(message)\n",
      "Xet Storage is enabled for this repo, but the 'hf_xet' package is not installed. Falling back to regular HTTP download. For better performance, install the package with: `pip install huggingface_hub[hf_xet]` or `pip install hf_xet`\n"
     ]
    },
    {
     "data": {
      "application/vnd.jupyter.widget-view+json": {
       "model_id": "e7593e62f7614b4db68b102803cd5f99",
       "version_major": 2,
       "version_minor": 0
      },
      "text/plain": [
       "pytorch_model.bin:   0%|          | 0.00/501M [00:00<?, ?B/s]"
      ]
     },
     "metadata": {},
     "output_type": "display_data"
    },
    {
     "name": "stderr",
     "output_type": "stream",
     "text": [
      "Some weights of the model checkpoint at cardiffnlp/twitter-roberta-base-sentiment-latest were not used when initializing RobertaForSequenceClassification: ['roberta.pooler.dense.bias', 'roberta.pooler.dense.weight']\n",
      "- This IS expected if you are initializing RobertaForSequenceClassification from the checkpoint of a model trained on another task or with another architecture (e.g. initializing a BertForSequenceClassification model from a BertForPreTraining model).\n",
      "- This IS NOT expected if you are initializing RobertaForSequenceClassification from the checkpoint of a model that you expect to be exactly identical (initializing a BertForSequenceClassification model from a BertForSequenceClassification model).\n",
      "Xet Storage is enabled for this repo, but the 'hf_xet' package is not installed. Falling back to regular HTTP download. For better performance, install the package with: `pip install huggingface_hub[hf_xet]` or `pip install hf_xet`\n"
     ]
    },
    {
     "data": {
      "application/vnd.jupyter.widget-view+json": {
       "model_id": "e78339b47b5d4af69e441dd2172f38ba",
       "version_major": 2,
       "version_minor": 0
      },
      "text/plain": [
       "vocab.json: 0.00B [00:00, ?B/s]"
      ]
     },
     "metadata": {},
     "output_type": "display_data"
    },
    {
     "data": {
      "application/vnd.jupyter.widget-view+json": {
       "model_id": "10b13fad7ec1409c8ba536dadb2684bd",
       "version_major": 2,
       "version_minor": 0
      },
      "text/plain": [
       "model.safetensors:   0%|          | 0.00/501M [00:00<?, ?B/s]"
      ]
     },
     "metadata": {},
     "output_type": "display_data"
    },
    {
     "data": {
      "application/vnd.jupyter.widget-view+json": {
       "model_id": "da0752d6030c43faab3dc9f56443f295",
       "version_major": 2,
       "version_minor": 0
      },
      "text/plain": [
       "merges.txt: 0.00B [00:00, ?B/s]"
      ]
     },
     "metadata": {},
     "output_type": "display_data"
    },
    {
     "data": {
      "application/vnd.jupyter.widget-view+json": {
       "model_id": "9728503669d749a489afd26234410c63",
       "version_major": 2,
       "version_minor": 0
      },
      "text/plain": [
       "special_tokens_map.json:   0%|          | 0.00/239 [00:00<?, ?B/s]"
      ]
     },
     "metadata": {},
     "output_type": "display_data"
    },
    {
     "name": "stderr",
     "output_type": "stream",
     "text": [
      "Device set to use cpu\n"
     ]
    },
    {
     "name": "stdout",
     "output_type": "stream",
     "text": [
      "✅ Model loaded successfully!\n",
      "Device: CPU\n"
     ]
    },
    {
     "name": "stderr",
     "output_type": "stream",
     "text": [
      "C:\\Users\\Yuvaraj\\AppData\\Local\\Programs\\Python\\Python313\\Lib\\site-packages\\transformers\\pipelines\\text_classification.py:111: UserWarning: `return_all_scores` is now deprecated,  if want a similar functionality use `top_k=None` instead of `return_all_scores=True` or `top_k=1` instead of `return_all_scores=False`.\n",
      "  warnings.warn(\n"
     ]
    }
   ],
   "source": [
    "# Load sentiment analysis model\n",
    "model_name = \"cardiffnlp/twitter-roberta-base-sentiment-latest\"\n",
    "\n",
    "print(f\"Loading model: {model_name}...\")\n",
    "sentiment_pipeline = pipeline(\n",
    "    \"sentiment-analysis\",\n",
    "    model=model_name,\n",
    "    tokenizer=model_name,\n",
    "    return_all_scores=True,\n",
    "    device=0 if torch.cuda.is_available() else -1  # Use GPU if available\n",
    ")\n",
    "\n",
    "print(\"✅ Model loaded successfully!\")\n",
    "print(f\"Device: {'GPU' if torch.cuda.is_available() else 'CPU'}\")"
   ]
  },
  {
   "cell_type": "code",
   "execution_count": 4,
   "id": "01dd1a42-1f11-420d-af1d-c3001278d180",
   "metadata": {},
   "outputs": [
    {
     "name": "stdout",
     "output_type": "stream",
     "text": [
      "✅ Fetched 10 articles\n",
      "\n",
      "--- Sample Article ---\n",
      "Title: Coimbatore Junction-Kannur Express to start from Podanur Junction on July 8 and 10\n",
      "Content length: 946 chars\n",
      "Category: Coimbatore\n"
     ]
    }
   ],
   "source": [
    "# Query 10 articles from news_cleaned\n",
    "query = supabase.table('news_cleaned') \\\n",
    "    .select('id, title, content_full, category, pub_date, source') \\\n",
    "    .not_.is_('content_full', 'null') \\\n",
    "    .order('pub_date', desc=True) \\\n",
    "    .limit(10) \\\n",
    "    .execute()\n",
    "\n",
    "articles = query.data\n",
    "print(f\"✅ Fetched {len(articles)} articles\")\n",
    "\n",
    "# Preview first article\n",
    "print(\"\\n--- Sample Article ---\")\n",
    "print(f\"Title: {articles[0]['title']}\")\n",
    "print(f\"Content length: {len(articles[0]['content_full'])} chars\")\n",
    "print(f\"Category: {articles[0]['category']}\")"
   ]
  },
  {
   "cell_type": "code",
   "execution_count": 5,
   "id": "16e36d3d-f1a6-4194-bd1a-b999464b51d6",
   "metadata": {},
   "outputs": [
    {
     "name": "stdout",
     "output_type": "stream",
     "text": [
      "Processing 1/10: Coimbatore Junction-Kannur Express to start from P...\n",
      "Processing 2/10: Train users’ assn. seeks revival of Tambaram servi...\n",
      "Processing 3/10: Private hospital helps 20 poor students join the c...\n",
      "Processing 4/10: Sivaganga custodial death: Special team followed i...\n",
      "Processing 5/10: 99 firemen recruits pass out in Madurai...\n",
      "Processing 6/10: T.N. police arrest two terror suspects who remaine...\n",
      "Processing 7/10: Seized stray cattle should be sent to goshalas to ...\n",
      "Processing 8/10: Six months on, long jump track work at Coimbatore ...\n",
      "Processing 9/10: Sivaganga custodial torture: Palaniswami finds fau...\n",
      "Processing 10/10: Thousands of devotees throng Chidambaram to take p...\n",
      "\n",
      "✅ Processed 10 articles successfully!\n"
     ]
    }
   ],
   "source": [
    "# Run sentiment analysis on all articles\n",
    "results = []\n",
    "\n",
    "for i, article in enumerate(articles, 1):\n",
    "    print(f\"Processing {i}/{len(articles)}: {article['title'][:50]}...\")\n",
    "    \n",
    "    # Truncate content if too long (model max: 512 tokens)\n",
    "    content = article['content_full'][:2000]  \n",
    "    \n",
    "    # Get predictions\n",
    "    prediction = sentiment_pipeline(content)[0]\n",
    "    \n",
    "    # Convert to dictionary for easier access\n",
    "    scores = {pred['label'].lower(): pred['score'] for pred in prediction}\n",
    "    \n",
    "    # Determine top label\n",
    "    top_label = max(scores, key=scores.get)\n",
    "    \n",
    "    results.append({\n",
    "        'article_id': article['id'],\n",
    "        'title': article['title'],\n",
    "        'sentiment_label': top_label.upper(),\n",
    "        'sentiment_scores': scores,\n",
    "        'confidence': scores[top_label],\n",
    "        'content_length': len(article['content_full']),\n",
    "        'category': article['category'],\n",
    "        'source': article['source']\n",
    "    })\n",
    "\n",
    "print(f\"\\n✅ Processed {len(results)} articles successfully!\")"
   ]
  },
  {
   "cell_type": "code",
   "execution_count": 6,
   "id": "96380627-d491-4f96-9aae-3d5847eb840c",
   "metadata": {},
   "outputs": [
    {
     "name": "stdout",
     "output_type": "stream",
     "text": [
      "                                               title sentiment_label  \\\n",
      "0  Coimbatore Junction-Kannur Express to start fr...         NEUTRAL   \n",
      "1  Train users’ assn. seeks revival of Tambaram s...         NEUTRAL   \n",
      "2  Private hospital helps 20 poor students join t...        POSITIVE   \n",
      "3  Sivaganga custodial death: Special team follow...         NEUTRAL   \n",
      "4            99 firemen recruits pass out in Madurai         NEUTRAL   \n",
      "5  T.N. police arrest two terror suspects who rem...         NEUTRAL   \n",
      "6  Seized stray cattle should be sent to goshalas...         NEUTRAL   \n",
      "7  Six months on, long jump track work at Coimbat...        NEGATIVE   \n",
      "8  Sivaganga custodial torture: Palaniswami finds...        NEGATIVE   \n",
      "9  Thousands of devotees throng Chidambaram to ta...         NEUTRAL   \n",
      "\n",
      "   confidence    category  \n",
      "0    0.818252  Coimbatore  \n",
      "1    0.851815  Coimbatore  \n",
      "2    0.505324     Madurai  \n",
      "3    0.695875  Tamil Nadu  \n",
      "4    0.881934     Madurai  \n",
      "5    0.657402  Tamil Nadu  \n",
      "6    0.755018  Tamil Nadu  \n",
      "7    0.557785  Coimbatore  \n",
      "8    0.518973  Tamil Nadu  \n",
      "9    0.772173  Tamil Nadu  \n",
      "\n",
      "--- Sentiment Distribution ---\n",
      "sentiment_label\n",
      "NEUTRAL     7\n",
      "NEGATIVE    2\n",
      "POSITIVE    1\n",
      "Name: count, dtype: int64\n",
      "\n",
      "--- Average Confidence by Sentiment ---\n",
      "sentiment_label\n",
      "NEGATIVE    0.538379\n",
      "NEUTRAL     0.776067\n",
      "POSITIVE    0.505324\n",
      "Name: confidence, dtype: float64\n",
      "\n",
      "--- Sample Output Structure ---\n",
      "{'article_id': '7dbcbf1f-7ea3-4f6c-8dbd-1fae6c7f3bda', 'title': 'Coimbatore Junction-Kannur Express to start from Podanur Junction on July 8 and 10', 'sentiment_label': 'NEUTRAL', 'sentiment_scores': {'negative': 0.1685277372598648, 'neutral': 0.8182523250579834, 'positive': 0.013219977729022503}, 'confidence': 0.8182523250579834, 'content_length': 946, 'category': 'Coimbatore', 'source': 'The Hindu - Archive'}\n"
     ]
    }
   ],
   "source": [
    "# Display results\n",
    "df = pd.DataFrame(results)\n",
    "print(df[['title', 'sentiment_label', 'confidence', 'category']])\n",
    "\n",
    "# Summary statistics\n",
    "print(\"\\n--- Sentiment Distribution ---\")\n",
    "print(df['sentiment_label'].value_counts())\n",
    "\n",
    "print(\"\\n--- Average Confidence by Sentiment ---\")\n",
    "print(df.groupby('sentiment_label')['confidence'].mean())\n",
    "\n",
    "# Sample output structure for database\n",
    "print(\"\\n--- Sample Output Structure ---\")\n",
    "print(results[0])"
   ]
  },
  {
   "cell_type": "code",
   "execution_count": null,
   "id": "3e9baeb2-b936-46bc-bb2f-385b6c0b1b5a",
   "metadata": {},
   "outputs": [],
   "source": []
  }
 ],
 "metadata": {
  "kernelspec": {
   "display_name": "Python 3.13",
   "language": "python",
   "name": "python313"
  },
  "language_info": {
   "codemirror_mode": {
    "name": "ipython",
    "version": 3
   },
   "file_extension": ".py",
   "mimetype": "text/x-python",
   "name": "python",
   "nbconvert_exporter": "python",
   "pygments_lexer": "ipython3",
   "version": "3.13.5"
  }
 },
 "nbformat": 4,
 "nbformat_minor": 5
}
